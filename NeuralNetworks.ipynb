{
 "nbformat": 4,
 "nbformat_minor": 0,
 "metadata": {
  "colab": {
   "provenance": [
    {
     "file_id": "1tj260loV7FcNei-kQmFlWjhgIXdhj5KO",
     "timestamp": 1730068184866
    },
    {
     "file_id": "1xdxnLvyJBH-ty0QJRoFE4o5l3tgMxNu4",
     "timestamp": 1711475456697
    }
   ],
   "toc_visible": true,
   "mount_file_id": "1xdxnLvyJBH-ty0QJRoFE4o5l3tgMxNu4",
   "authorship_tag": "ABX9TyP9KVqMkHsskYnzoksF2mRO"
  },
  "kernelspec": {
   "name": "python3",
   "language": "python",
   "display_name": "Python 3 (ipykernel)"
  },
  "language_info": {
   "name": "python"
  }
 },
 "cells": [
  {
   "cell_type": "code",
   "execution_count": 23,
   "metadata": {
    "id": "kUK-VZa6ZkAi",
    "ExecuteTime": {
     "end_time": "2024-11-06T16:29:17.418151900Z",
     "start_time": "2024-11-06T16:29:16.821355700Z"
    }
   },
   "outputs": [],
   "source": [
    "import numpy as np\n",
    "import pandas as pd\n",
    "import matplotlib.pyplot as plt\n",
    "import seaborn as sns"
   ]
  },
  {
   "cell_type": "markdown",
   "source": [
    "# Neural networks - sequential\n",
    "\n",
    "Additional resource:  https://towardsdatascience.com/building-our-first-neural-network-in-keras-bdc8abbc17f5\n"
   ],
   "metadata": {
    "id": "Bk8kL1a0ad3m"
   }
  },
  {
   "cell_type": "markdown",
   "source": [
    "## Heart disease data set\n",
    "\n",
    "We will try to predict the target value of heart disease.  1 = heart disease, 0 = not heart disease."
   ],
   "metadata": {
    "id": "DU6vBwToaTUl"
   }
  },
  {
   "cell_type": "markdown",
   "source": [
    "## Step 1: Import the data, test/train split, and scale it.\n",
    "\n",
    "We standardize the data set so that it behaves more smoothly for Stochastic Gradient Descent."
   ],
   "metadata": {
    "id": "A62k-12oa3TJ"
   }
  },
  {
   "cell_type": "code",
   "source": [
    "import pandas as pd\n",
    "import numpy as np\n",
    "df = pd.read_csv('data/heart.csv')\n",
    "df.sample(1)"
   ],
   "metadata": {
    "id": "ky2-poXtaVl4",
    "ExecuteTime": {
     "end_time": "2024-11-06T16:29:17.990143400Z",
     "start_time": "2024-11-06T16:29:16.900377800Z"
    }
   },
   "execution_count": 24,
   "outputs": [
    {
     "data": {
      "text/plain": "     age  sex  cp  trestbps  chol  fbs  restecg  thalach  exang  oldpeak  \\\n203   68    1   2       180   274    1        0      150      1      1.6   \n\n     slope  ca  thal  target  \n203      1   0     3       0  ",
      "text/html": "<div>\n<style scoped>\n    .dataframe tbody tr th:only-of-type {\n        vertical-align: middle;\n    }\n\n    .dataframe tbody tr th {\n        vertical-align: top;\n    }\n\n    .dataframe thead th {\n        text-align: right;\n    }\n</style>\n<table border=\"1\" class=\"dataframe\">\n  <thead>\n    <tr style=\"text-align: right;\">\n      <th></th>\n      <th>age</th>\n      <th>sex</th>\n      <th>cp</th>\n      <th>trestbps</th>\n      <th>chol</th>\n      <th>fbs</th>\n      <th>restecg</th>\n      <th>thalach</th>\n      <th>exang</th>\n      <th>oldpeak</th>\n      <th>slope</th>\n      <th>ca</th>\n      <th>thal</th>\n      <th>target</th>\n    </tr>\n  </thead>\n  <tbody>\n    <tr>\n      <th>203</th>\n      <td>68</td>\n      <td>1</td>\n      <td>2</td>\n      <td>180</td>\n      <td>274</td>\n      <td>1</td>\n      <td>0</td>\n      <td>150</td>\n      <td>1</td>\n      <td>1.6</td>\n      <td>1</td>\n      <td>0</td>\n      <td>3</td>\n      <td>0</td>\n    </tr>\n  </tbody>\n</table>\n</div>"
     },
     "execution_count": 24,
     "metadata": {},
     "output_type": "execute_result"
    }
   ]
  },
  {
   "cell_type": "code",
   "source": [
    "from sklearn.model_selection import train_test_split\n",
    "X= df.drop('target', axis=1)\n",
    "y = df['target']\n",
    "X_train, X_test, y_train, y_test = train_test_split(X, y, test_size=0.10, random_state=42)"
   ],
   "metadata": {
    "id": "RNeClwK6b1NF",
    "ExecuteTime": {
     "end_time": "2024-11-06T16:29:18.089417200Z",
     "start_time": "2024-11-06T16:29:16.931658100Z"
    }
   },
   "execution_count": 25,
   "outputs": []
  },
  {
   "cell_type": "code",
   "source": [
    "from sklearn.model_selection import train_test_split\n",
    "X= df.drop('target', axis=1)\n",
    "y = df['target']\n",
    "X_train, X_test, y_train, y_test = train_test_split(X, y, test_size=0.10, random_state=42)\n",
    "from sklearn.preprocessing import StandardScaler\n",
    "scaler = StandardScaler()\n",
    "X_train_scaled = scaler.fit_transform(X_train)\n",
    "X_test_scaled = scaler.transform(X_test)\n"
   ],
   "metadata": {
    "id": "T5lAK1LibAmN",
    "ExecuteTime": {
     "end_time": "2024-11-06T16:29:18.099964700Z",
     "start_time": "2024-11-06T16:29:16.947246200Z"
    }
   },
   "execution_count": 26,
   "outputs": []
  },
  {
   "cell_type": "markdown",
   "source": [
    "## Step 2: Null model\n",
    "The majority class is heart disease.  How likely are we to be right if we assume everyone in the data set has heart disease?\n",
    "\n",
    "Looks to be 54% of our data in the training set has heart disease, so that's our null rate we hope to beat."
   ],
   "metadata": {
    "id": "y7SSGlhAa1Y3"
   }
  },
  {
   "cell_type": "code",
   "source": [
    "sum(y_train)/len(y_train)"
   ],
   "metadata": {
    "id": "mcjgEM0dci3a",
    "ExecuteTime": {
     "end_time": "2024-11-06T16:29:18.335308800Z",
     "start_time": "2024-11-06T16:29:16.994561500Z"
    }
   },
   "execution_count": 27,
   "outputs": [
    {
     "data": {
      "text/plain": "0.5441176470588235"
     },
     "execution_count": 27,
     "metadata": {},
     "output_type": "execute_result"
    }
   ]
  },
  {
   "cell_type": "markdown",
   "source": [
    "## Decision Tree\n"
   ],
   "metadata": {
    "id": "WckyLtZzc8SH"
   }
  },
  {
   "cell_type": "code",
   "source": [
    "from sklearn.model_selection import train_test_split\n",
    "from sklearn.tree import DecisionTreeClassifier\n",
    "from sklearn.metrics import classification_report, confusion_matrix, accuracy_score\n",
    "from tqdm import tqdm \n",
    "import matplotlib.pyplot as plt\n",
    "\n",
    "train = []\n",
    "test = []\n",
    "\n",
    "for depth in tqdm(range(1,20)):\n",
    "    X_train, X_test, y_train, y_test = train_test_split(X, y, test_size = 0.2, random_state = 42)\n",
    "\n",
    "    model = DecisionTreeClassifier(max_depth = depth)\n",
    "    model.fit(X_train, y_train)\n",
    "\n",
    "    y_pred_train = model.predict(X_train)\n",
    "\n",
    "    y_pred_test = model.predict(X_test)\n",
    "    train.append(accuracy_score(y_train, y_pred_train))\n",
    "    test.append(accuracy_score(y_test, y_pred_test))\n",
    "\n",
    "plt.plot(train)\n",
    "plt.plot(test)\n",
    "plt.xlabel(\"Depth\")\n",
    "plt.ylabel(\"Accuracy Score\")\n",
    "plt.legend()\n",
    "# confusion_matrix(y_test, y_pred)\n",
    "# print('Accuracy Score: ', round(accuracy_score(y_test, y_pred), 3))\n",
    "# print(classification_report(y_test, y_pred))"
   ],
   "metadata": {
    "id": "cHB2ZXL5c8AR",
    "ExecuteTime": {
     "end_time": "2024-11-06T16:29:19.669864300Z",
     "start_time": "2024-11-06T16:29:17.025862900Z"
    }
   },
   "execution_count": 28,
   "outputs": [
    {
     "name": "stderr",
     "output_type": "stream",
     "text": [
      "100%|██████████| 19/19 [00:00<00:00, 57.69it/s]\n"
     ]
    },
    {
     "data": {
      "text/plain": "<matplotlib.legend.Legend at 0x1e1dcb7dfd0>"
     },
     "execution_count": 28,
     "metadata": {},
     "output_type": "execute_result"
    },
    {
     "data": {
      "text/plain": "<Figure size 640x480 with 1 Axes>",
      "image/png": "[encoded data removed]"
     },
     "metadata": {},
     "output_type": "display_data"
    }
   ]
  },
  {
   "cell_type": "code",
   "source": [
    "from sklearn.ensemble import RandomForestClassifier, RandomForestRegressor\n",
    "\n",
    "from sklearn.model_selection import train_test_split\n",
    "from sklearn.tree import DecisionTreeClassifier\n",
    "from sklearn.metrics import classification_report, confusion_matrix, accuracy_score\n",
    "from tqdm import tqdm \n",
    "\n",
    "\n",
    "train = []\n",
    "test = []\n",
    "\n",
    "for depth in tqdm(range(1,20)):\n",
    "    X_train, X_test, y_train, y_test = train_test_split(X, y, test_size = 0.2, random_state = 42)\n",
    "\n",
    "    model = RandomForestClassifier(max_depth = depth, n_estimators = 5, random_state = 42, max_features = 3)\n",
    "    model.fit(X_train, y_train)\n",
    "\n",
    "    y_pred_train = model.predict(X_train)\n",
    "\n",
    "    y_pred_test = model.predict(X_test)\n",
    "    train.append(accuracy_score(y_train, y_pred_train))\n",
    "    test.append(accuracy_score(y_test, y_pred_test))\n",
    "plt.plot(train, label = 'Train')\n",
    "plt.plot(test, label = 'Test')\n",
    "plt.xlabel(\"Depth\")\n",
    "plt.ylabel(\"Accuracy Score\")\n",
    "plt.legend()"
   ],
   "metadata": {
    "id": "2CS7E5-soEKL",
    "ExecuteTime": {
     "end_time": "2024-11-06T16:29:19.952849800Z",
     "start_time": "2024-11-06T16:29:17.668535400Z"
    }
   },
   "execution_count": 29,
   "outputs": [
    {
     "name": "stderr",
     "output_type": "stream",
     "text": [
      "100%|██████████| 19/19 [00:00<00:00, 55.64it/s]\n"
     ]
    },
    {
     "data": {
      "text/plain": "<matplotlib.legend.Legend at 0x1e1dcc56e80>"
     },
     "execution_count": 29,
     "metadata": {},
     "output_type": "execute_result"
    },
    {
     "data": {
      "text/plain": "<Figure size 640x480 with 1 Axes>",
      "image/png": "[encoded data removed]"
     },
     "metadata": {},
     "output_type": "display_data"
    }
   ]
  },
  {
   "cell_type": "code",
   "source": [
    "from sklearn.ensemble import RandomForestClassifier, RandomForestRegressor\n",
    "\n",
    "from sklearn.model_selection import train_test_split\n",
    "from sklearn.tree import DecisionTreeClassifier\n",
    "from sklearn.metrics import classification_report, confusion_matrix, accuracy_score\n",
    "from tqdm import tqdm \n",
    "\n",
    "\n",
    "train = []\n",
    "test = []\n",
    "depth = []\n",
    "features = []\n",
    "estimators = []\n",
    "for dep in tqdm(range(1,20, 4)):\n",
    "    for feature in range(1,10, 3):\n",
    "        for estim in range(1,20, 4):\n",
    "            X_train, X_test, y_train, y_test = train_test_split(X, y, test_size = 0.2, random_state = 42)\n",
    "\n",
    "            model = RandomForestClassifier(max_depth = dep, n_estimators = estim, \n",
    "                                           random_state = 42, max_features = feature)\n",
    "            model.fit(X_train, y_train)\n",
    "\n",
    "            y_pred_train = model.predict(X_train)\n",
    "\n",
    "            y_pred_test = model.predict(X_test)\n",
    "            train.append(accuracy_score(y_train, y_pred_train))\n",
    "            test.append(accuracy_score(y_test, y_pred_test))\n",
    "            depth.append(dep)\n",
    "            features.append(feature)\n",
    "            estimators.append(estim)\n",
    "best_one = max(enumerate(test),key=lambda x: x[1])[0]\n",
    "print(f\"Best Test Accuracy: {test[best_one]} \")\n",
    "print(f\"Best Train Accuracy: {train[best_one]} \")\n",
    "\n",
    "print(f\"Best Max_Depth: {depth[best_one]} \")\n",
    "print(f\"Best Max_Features: {features[best_one]} \")\n",
    "\n",
    "print(f\"Best N_estimators: {estimators[best_one]} \")\n",
    "# plt.plot(train, label = 'Train')\n",
    "# plt.plot(test, label = 'Test')\n",
    "# plt.xlabel(\"Depth\")\n",
    "# plt.ylabel(\"Accuracy Score\")\n",
    "# plt.legend()"
   ],
   "metadata": {
    "id": "yisgfCb9dFbc",
    "ExecuteTime": {
     "end_time": "2024-11-06T16:29:20.564519Z",
     "start_time": "2024-11-06T16:29:18.366555900Z"
    }
   },
   "execution_count": 30,
   "outputs": [
    {
     "name": "stderr",
     "output_type": "stream",
     "text": [
      "100%|██████████| 5/5 [00:01<00:00,  2.59it/s]"
     ]
    },
    {
     "name": "stdout",
     "output_type": "stream",
     "text": [
      "Best Test Accuracy: 0.8852459016393442 \n",
      "Best Train Accuracy: 0.7892561983471075 \n",
      "Best Max_Depth: 1 \n",
      "Best Max_Features: 4 \n",
      "Best N_estimators: 17 \n"
     ]
    },
    {
     "name": "stderr",
     "output_type": "stream",
     "text": [
      "\n"
     ]
    }
   ]
  },
  {
   "cell_type": "markdown",
   "source": [],
   "metadata": {
    "collapsed": false
   }
  },
  {
   "cell_type": "markdown",
   "source": [],
   "metadata": {
    "collapsed": false
   }
  },
  {
   "cell_type": "markdown",
   "source": [
    "## Step 4: Building a neural network for classification\n",
    "\n",
    "We will use the keras and tensorflow packages, rather than sklearn.\n",
    "\n",
    "We have to decide on the structure of our neural network, but there are some basic guidelines.\n",
    "\n",
    "* There are 13 columns in the data, so there are 13 input nodes for the first layer.\n",
    "* All of those go into activation functions.\n",
    "* 'relu' is a useful/efficient activiation function, but 'sigmoid' is handy for the last one because it is bounded between 0 and 1, making it easier to interpret.\n",
    "\n",
    "* If we have 5 activation functions in the first (hidden) layer, that is (13+1)*5 = 70 betas to figure out.  Each layer adds many more coefficients / weights to determine.\n",
    "\n",
    "* The final layer will have 1 node because that is probability of having heart disease.  (For the written digits problem, there were 10 because there were 10 classification options)\n",
    "\n",
    "\n",
    "**Sequential**\n",
    "* Our first example is a sequential neural network.  Alternatives to sequential (a.k.a. feed forward neural network) are recursive neural networks (looping) or convolution neural networks (part of the data each time... convolution is good for image processing)\n",
    "*  If we are doing a yes/no classifier, our last activation function is probably a sigmoid or something like that.\n",
    "\n",
    "**model.add**\n",
    "\n",
    "*  model.add(Dense(# of notes in hidden layer, input dimension, activation function))\n",
    "* relu is a popular option... google more\n",
    "*  https://en.wikipedia.org/wiki/Rectifier_(neural_networks)... relu\n",
    "* The output layer is the one with 1 number coming out, using the sigmoid activation.\n",
    "*  If you were doing the 8 pixel by 8 pixel handwritten digits, you would have 64 (pixels) input and 10 outputs (numbers)"
   ],
   "metadata": {
    "id": "KVrpOVqKdHbJ"
   }
  },
  {
   "cell_type": "code",
   "source": [
    "#In this section we design the neural network, but don't run data through it yet.\n",
    "import keras\n",
    "import tensorflow as tf\n",
    "from keras.models import Sequential\n",
    "from keras.layers import Dense\n",
    "import warnings\n",
    "# dense means every node is connected to every next node to the right\n",
    "warnings.simplefilter(\"ignore\")\n",
    "# inputs = Input(shape=(784,))                 # input layer\n",
    "# x = Dense(32, activation='relu')(inputs)     # hidden layer\n",
    "# outputs = Dense(10, activation='softmax')(x) # output layer\n",
    "# \n",
    "# model = Model(inputs, outputs)\n",
    "\n",
    "# Neural network\n",
    "# first define the type of model: A sequential neural network in this case\n",
    "model = Sequential()\n",
    "\n",
    "model.add(Dense(12, input_dim=13, activation='relu'))\n",
    "# 5= number of activations in the first hidden layer\n",
    "# 13 = # of predictors\n",
    "# they are all the same activation function, 'relu'\n",
    "\n",
    "model.add(Dense(10, activation ='relu'))  # these are the lego blocks... second layer has 7 nodes\n",
    "#model.add(Dense(10, activation='relu'))  # 3rd layer... this one has 10 nodes.\n",
    "\n",
    "model.add(Dense(1, activation='sigmoid'))  # last layer"
   ],
   "metadata": {
    "id": "QjxDNXXYdLze",
    "ExecuteTime": {
     "end_time": "2024-11-06T16:29:20.611867800Z",
     "start_time": "2024-11-06T16:29:20.344458200Z"
    }
   },
   "execution_count": 31,
   "outputs": []
  },
  {
   "cell_type": "code",
   "source": [
    "model.compile(loss='binary_crossentropy',\n",
    "              optimizer=tf.keras.optimizers.SGD(learning_rate=0.01),\n",
    "              metrics=['accuracy'])\n",
    "# there are lots of loss functions, pick this one for now.  This is how we minimize error.\n",
    "# SGD = stochastic gradient descent\n",
    "# tensor flows package, keras subpackage, get optimizers, choose SGD...\n",
    "# If we just do sgd (lower case) instead of the full name \"tf.keras.optimizers.SGD\",\n",
    "# we lose control of the learning rate\n",
    "\n",
    "model.summary()\n",
    "## This will indicate how many parameters need training\n",
    "## We still haven't give the network any data yet."
   ],
   "metadata": {
    "id": "93yJuf1qfkyK",
    "ExecuteTime": {
     "end_time": "2024-11-06T16:29:20.611867800Z",
     "start_time": "2024-11-06T16:29:20.394320700Z"
    }
   },
   "execution_count": 32,
   "outputs": [
    {
     "data": {
      "text/plain": "\u001B[1mModel: \"sequential_2\"\u001B[0m\n",
      "text/html": "<pre style=\"white-space:pre;overflow-x:auto;line-height:normal;font-family:Menlo,'DejaVu Sans Mono',consolas,'Courier New',monospace\"><span style=\"font-weight: bold\">Model: \"sequential_2\"</span>\n</pre>\n"
     },
     "metadata": {},
     "output_type": "display_data"
    },
    {
     "data": {
      "text/plain": "┏━━━━━━━━━━━━━━━━━━━━━━━━━━━━━━━━━┳━━━━━━━━━━━━━━━━━━━━━━━━┳━━━━━━━━━━━━━━━┓\n┃\u001B[1m \u001B[0m\u001B[1mLayer (type)                   \u001B[0m\u001B[1m \u001B[0m┃\u001B[1m \u001B[0m\u001B[1mOutput Shape          \u001B[0m\u001B[1m \u001B[0m┃\u001B[1m \u001B[0m\u001B[1m      Param #\u001B[0m\u001B[1m \u001B[0m┃\n┡━━━━━━━━━━━━━━━━━━━━━━━━━━━━━━━━━╇━━━━━━━━━━━━━━━━━━━━━━━━╇━━━━━━━━━━━━━━━┩\n│ dense_3 (\u001B[38;5;33mDense\u001B[0m)                 │ (\u001B[38;5;45mNone\u001B[0m, \u001B[38;5;34m12\u001B[0m)             │           \u001B[38;5;34m168\u001B[0m │\n├─────────────────────────────────┼────────────────────────┼───────────────┤\n│ dense_4 (\u001B[38;5;33mDense\u001B[0m)                 │ (\u001B[38;5;45mNone\u001B[0m, \u001B[38;5;34m10\u001B[0m)             │           \u001B[38;5;34m130\u001B[0m │\n├─────────────────────────────────┼────────────────────────┼───────────────┤\n│ dense_5 (\u001B[38;5;33mDense\u001B[0m)                 │ (\u001B[38;5;45mNone\u001B[0m, \u001B[38;5;34m1\u001B[0m)              │            \u001B[38;5;34m11\u001B[0m │\n└─────────────────────────────────┴────────────────────────┴───────────────┘\n",
      "text/html": "<pre style=\"white-space:pre;overflow-x:auto;line-height:normal;font-family:Menlo,'DejaVu Sans Mono',consolas,'Courier New',monospace\">┏━━━━━━━━━━━━━━━━━━━━━━━━━━━━━━━━━┳━━━━━━━━━━━━━━━━━━━━━━━━┳━━━━━━━━━━━━━━━┓\n┃<span style=\"font-weight: bold\"> Layer (type)                    </span>┃<span style=\"font-weight: bold\"> Output Shape           </span>┃<span style=\"font-weight: bold\">       Param # </span>┃\n┡━━━━━━━━━━━━━━━━━━━━━━━━━━━━━━━━━╇━━━━━━━━━━━━━━━━━━━━━━━━╇━━━━━━━━━━━━━━━┩\n│ dense_3 (<span style=\"color: #0087ff; text-decoration-color: #0087ff\">Dense</span>)                 │ (<span style=\"color: #00d7ff; text-decoration-color: #00d7ff\">None</span>, <span style=\"color: #00af00; text-decoration-color: #00af00\">12</span>)             │           <span style=\"color: #00af00; text-decoration-color: #00af00\">168</span> │\n├─────────────────────────────────┼────────────────────────┼───────────────┤\n│ dense_4 (<span style=\"color: #0087ff; text-decoration-color: #0087ff\">Dense</span>)                 │ (<span style=\"color: #00d7ff; text-decoration-color: #00d7ff\">None</span>, <span style=\"color: #00af00; text-decoration-color: #00af00\">10</span>)             │           <span style=\"color: #00af00; text-decoration-color: #00af00\">130</span> │\n├─────────────────────────────────┼────────────────────────┼───────────────┤\n│ dense_5 (<span style=\"color: #0087ff; text-decoration-color: #0087ff\">Dense</span>)                 │ (<span style=\"color: #00d7ff; text-decoration-color: #00d7ff\">None</span>, <span style=\"color: #00af00; text-decoration-color: #00af00\">1</span>)              │            <span style=\"color: #00af00; text-decoration-color: #00af00\">11</span> │\n└─────────────────────────────────┴────────────────────────┴───────────────┘\n</pre>\n"
     },
     "metadata": {},
     "output_type": "display_data"
    },
    {
     "data": {
      "text/plain": "\u001B[1m Total params: \u001B[0m\u001B[38;5;34m309\u001B[0m (1.21 KB)\n",
      "text/html": "<pre style=\"white-space:pre;overflow-x:auto;line-height:normal;font-family:Menlo,'DejaVu Sans Mono',consolas,'Courier New',monospace\"><span style=\"font-weight: bold\"> Total params: </span><span style=\"color: #00af00; text-decoration-color: #00af00\">309</span> (1.21 KB)\n</pre>\n"
     },
     "metadata": {},
     "output_type": "display_data"
    },
    {
     "data": {
      "text/plain": "\u001B[1m Trainable params: \u001B[0m\u001B[38;5;34m309\u001B[0m (1.21 KB)\n",
      "text/html": "<pre style=\"white-space:pre;overflow-x:auto;line-height:normal;font-family:Menlo,'DejaVu Sans Mono',consolas,'Courier New',monospace\"><span style=\"font-weight: bold\"> Trainable params: </span><span style=\"color: #00af00; text-decoration-color: #00af00\">309</span> (1.21 KB)\n</pre>\n"
     },
     "metadata": {},
     "output_type": "display_data"
    },
    {
     "data": {
      "text/plain": "\u001B[1m Non-trainable params: \u001B[0m\u001B[38;5;34m0\u001B[0m (0.00 B)\n",
      "text/html": "<pre style=\"white-space:pre;overflow-x:auto;line-height:normal;font-family:Menlo,'DejaVu Sans Mono',consolas,'Courier New',monospace\"><span style=\"font-weight: bold\"> Non-trainable params: </span><span style=\"color: #00af00; text-decoration-color: #00af00\">0</span> (0.00 B)\n</pre>\n"
     },
     "metadata": {},
     "output_type": "display_data"
    }
   ]
  },
  {
   "cell_type": "code",
   "source": [],
   "metadata": {
    "id": "ToA2trQ8fv-o",
    "ExecuteTime": {
     "end_time": "2024-11-06T16:29:20.658696900Z",
     "start_time": "2024-11-06T16:29:20.423487600Z"
    }
   },
   "execution_count": 32,
   "outputs": []
  },
  {
   "cell_type": "markdown",
   "source": [
    "## Step 5: Train the neural network\n",
    "\n",
    "This is where we feed in the data.  This is the part that can take a long time to run."
   ],
   "metadata": {
    "id": "0U63ehRAgDqg"
   }
  },
  {
   "cell_type": "code",
   "execution_count": 33,
   "outputs": [],
   "source": [
    "from sklearn.model_selection import train_test_split\n",
    "X= df.drop('target', axis=1)\n",
    "y = df['target']\n",
    "X_train, X_test, y_train, y_test = train_test_split(X, y, test_size=0.10, random_state=42)\n",
    "from sklearn.preprocessing import StandardScaler\n",
    "scaler = StandardScaler()\n",
    "X_train_scaled = scaler.fit_transform(X_train)\n",
    "X_test_scaled = scaler.transform(X_test)\n"
   ],
   "metadata": {
    "collapsed": false,
    "ExecuteTime": {
     "end_time": "2024-11-06T16:29:20.721589700Z",
     "start_time": "2024-11-06T16:29:20.439146800Z"
    }
   }
  },
  {
   "cell_type": "code",
   "execution_count": 34,
   "outputs": [
    {
     "data": {
      "text/plain": "284    0\n198    0\n42     1\n17     1\n168    0\n      ..\n188    0\n71     1\n106    1\n270    0\n102    1\nName: target, Length: 272, dtype: int64"
     },
     "execution_count": 34,
     "metadata": {},
     "output_type": "execute_result"
    }
   ],
   "source": [
    "y_train"
   ],
   "metadata": {
    "collapsed": false,
    "ExecuteTime": {
     "end_time": "2024-11-06T16:29:20.768528900Z",
     "start_time": "2024-11-06T16:29:20.454731400Z"
    }
   }
  },
  {
   "cell_type": "code",
   "source": [
    "fittedModel = model.fit(X_train_scaled,\n",
    "                        y_train,\n",
    "                        epochs=40, #how many loops it is going to run\n",
    "                        verbose=1)\n",
    "# epochs is how many times to rerun the whole thing, improving the betas each time\n",
    "# Default is epochs=1, which is dumb."
   ],
   "metadata": {
    "id": "n8Pz2V8_fzaa",
    "ExecuteTime": {
     "end_time": "2024-11-06T16:29:25.303084600Z",
     "start_time": "2024-11-06T16:29:20.470385400Z"
    }
   },
   "execution_count": 35,
   "outputs": [
    {
     "name": "stdout",
     "output_type": "stream",
     "text": [
      "Epoch 1/40\n",
      "\u001B[1m9/9\u001B[0m \u001B[32m━━━━━━━━━━━━━━━━━━━━\u001B[0m\u001B[37m\u001B[0m \u001B[1m1s\u001B[0m 2ms/step - accuracy: 0.4903 - loss: 0.7647\n",
      "Epoch 2/40\n",
      "\u001B[1m9/9\u001B[0m \u001B[32m━━━━━━━━━━━━━━━━━━━━\u001B[0m\u001B[37m\u001B[0m \u001B[1m0s\u001B[0m 4ms/step - accuracy: 0.5085 - loss: 0.7441\n",
      "Epoch 3/40\n",
      "\u001B[1m9/9\u001B[0m \u001B[32m━━━━━━━━━━━━━━━━━━━━\u001B[0m\u001B[37m\u001B[0m \u001B[1m0s\u001B[0m 2ms/step - accuracy: 0.5184 - loss: 0.7294\n",
      "Epoch 4/40\n",
      "\u001B[1m9/9\u001B[0m \u001B[32m━━━━━━━━━━━━━━━━━━━━\u001B[0m\u001B[37m\u001B[0m \u001B[1m0s\u001B[0m 6ms/step - accuracy: 0.5529 - loss: 0.7182\n",
      "Epoch 5/40\n",
      "\u001B[1m9/9\u001B[0m \u001B[32m━━━━━━━━━━━━━━━━━━━━\u001B[0m\u001B[37m\u001B[0m \u001B[1m0s\u001B[0m 4ms/step - accuracy: 0.5732 - loss: 0.6977\n",
      "Epoch 6/40\n",
      "\u001B[1m9/9\u001B[0m \u001B[32m━━━━━━━━━━━━━━━━━━━━\u001B[0m\u001B[37m\u001B[0m \u001B[1m0s\u001B[0m 4ms/step - accuracy: 0.5311 - loss: 0.7012\n",
      "Epoch 7/40\n",
      "\u001B[1m9/9\u001B[0m \u001B[32m━━━━━━━━━━━━━━━━━━━━\u001B[0m\u001B[37m\u001B[0m \u001B[1m0s\u001B[0m 2ms/step - accuracy: 0.5504 - loss: 0.6778\n",
      "Epoch 8/40\n",
      "\u001B[1m9/9\u001B[0m \u001B[32m━━━━━━━━━━━━━━━━━━━━\u001B[0m\u001B[37m\u001B[0m \u001B[1m0s\u001B[0m 4ms/step - accuracy: 0.6283 - loss: 0.6549\n",
      "Epoch 9/40\n",
      "\u001B[1m9/9\u001B[0m \u001B[32m━━━━━━━━━━━━━━━━━━━━\u001B[0m\u001B[37m\u001B[0m \u001B[1m0s\u001B[0m 2ms/step - accuracy: 0.5851 - loss: 0.6882\n",
      "Epoch 10/40\n",
      "\u001B[1m9/9\u001B[0m \u001B[32m━━━━━━━━━━━━━━━━━━━━\u001B[0m\u001B[37m\u001B[0m \u001B[1m0s\u001B[0m 4ms/step - accuracy: 0.6164 - loss: 0.6607\n",
      "Epoch 11/40\n",
      "\u001B[1m9/9\u001B[0m \u001B[32m━━━━━━━━━━━━━━━━━━━━\u001B[0m\u001B[37m\u001B[0m \u001B[1m0s\u001B[0m 2ms/step - accuracy: 0.6535 - loss: 0.6500\n",
      "Epoch 12/40\n",
      "\u001B[1m9/9\u001B[0m \u001B[32m━━━━━━━━━━━━━━━━━━━━\u001B[0m\u001B[37m\u001B[0m \u001B[1m0s\u001B[0m 2ms/step - accuracy: 0.6494 - loss: 0.6515\n",
      "Epoch 13/40\n",
      "\u001B[1m9/9\u001B[0m \u001B[32m━━━━━━━━━━━━━━━━━━━━\u001B[0m\u001B[37m\u001B[0m \u001B[1m0s\u001B[0m 2ms/step - accuracy: 0.6719 - loss: 0.6329\n",
      "Epoch 14/40\n",
      "\u001B[1m9/9\u001B[0m \u001B[32m━━━━━━━━━━━━━━━━━━━━\u001B[0m\u001B[37m\u001B[0m \u001B[1m0s\u001B[0m 1ms/step - accuracy: 0.6750 - loss: 0.6408\n",
      "Epoch 15/40\n",
      "\u001B[1m9/9\u001B[0m \u001B[32m━━━━━━━━━━━━━━━━━━━━\u001B[0m\u001B[37m\u001B[0m \u001B[1m0s\u001B[0m 4ms/step - accuracy: 0.7444 - loss: 0.6096\n",
      "Epoch 16/40\n",
      "\u001B[1m9/9\u001B[0m \u001B[32m━━━━━━━━━━━━━━━━━━━━\u001B[0m\u001B[37m\u001B[0m \u001B[1m0s\u001B[0m 6ms/step - accuracy: 0.7192 - loss: 0.6160\n",
      "Epoch 17/40\n",
      "\u001B[1m9/9\u001B[0m \u001B[32m━━━━━━━━━━━━━━━━━━━━\u001B[0m\u001B[37m\u001B[0m \u001B[1m0s\u001B[0m 5ms/step - accuracy: 0.7225 - loss: 0.6093\n",
      "Epoch 18/40\n",
      "\u001B[1m9/9\u001B[0m \u001B[32m━━━━━━━━━━━━━━━━━━━━\u001B[0m\u001B[37m\u001B[0m \u001B[1m0s\u001B[0m 3ms/step - accuracy: 0.7266 - loss: 0.6094\n",
      "Epoch 19/40\n",
      "\u001B[1m9/9\u001B[0m \u001B[32m━━━━━━━━━━━━━━━━━━━━\u001B[0m\u001B[37m\u001B[0m \u001B[1m0s\u001B[0m 2ms/step - accuracy: 0.7415 - loss: 0.6014\n",
      "Epoch 20/40\n",
      "\u001B[1m9/9\u001B[0m \u001B[32m━━━━━━━━━━━━━━━━━━━━\u001B[0m\u001B[37m\u001B[0m \u001B[1m0s\u001B[0m 2ms/step - accuracy: 0.7515 - loss: 0.5784 \n",
      "Epoch 21/40\n",
      "\u001B[1m9/9\u001B[0m \u001B[32m━━━━━━━━━━━━━━━━━━━━\u001B[0m\u001B[37m\u001B[0m \u001B[1m0s\u001B[0m 2ms/step - accuracy: 0.7369 - loss: 0.5782\n",
      "Epoch 22/40\n",
      "\u001B[1m9/9\u001B[0m \u001B[32m━━━━━━━━━━━━━━━━━━━━\u001B[0m\u001B[37m\u001B[0m \u001B[1m0s\u001B[0m 2ms/step - accuracy: 0.7357 - loss: 0.5835\n",
      "Epoch 23/40\n",
      "\u001B[1m9/9\u001B[0m \u001B[32m━━━━━━━━━━━━━━━━━━━━\u001B[0m\u001B[37m\u001B[0m \u001B[1m0s\u001B[0m 3ms/step - accuracy: 0.7644 - loss: 0.5544\n",
      "Epoch 24/40\n",
      "\u001B[1m9/9\u001B[0m \u001B[32m━━━━━━━━━━━━━━━━━━━━\u001B[0m\u001B[37m\u001B[0m \u001B[1m0s\u001B[0m 2ms/step - accuracy: 0.7673 - loss: 0.5730\n",
      "Epoch 25/40\n",
      "\u001B[1m9/9\u001B[0m \u001B[32m━━━━━━━━━━━━━━━━━━━━\u001B[0m\u001B[37m\u001B[0m \u001B[1m0s\u001B[0m 4ms/step - accuracy: 0.7537 - loss: 0.5675\n",
      "Epoch 26/40\n",
      "\u001B[1m9/9\u001B[0m \u001B[32m━━━━━━━━━━━━━━━━━━━━\u001B[0m\u001B[37m\u001B[0m \u001B[1m0s\u001B[0m 6ms/step - accuracy: 0.7855 - loss: 0.5547\n",
      "Epoch 27/40\n",
      "\u001B[1m9/9\u001B[0m \u001B[32m━━━━━━━━━━━━━━━━━━━━\u001B[0m\u001B[37m\u001B[0m \u001B[1m0s\u001B[0m 6ms/step - accuracy: 0.7819 - loss: 0.5394\n",
      "Epoch 28/40\n",
      "\u001B[1m9/9\u001B[0m \u001B[32m━━━━━━━━━━━━━━━━━━━━\u001B[0m\u001B[37m\u001B[0m \u001B[1m0s\u001B[0m 4ms/step - accuracy: 0.7950 - loss: 0.5386\n",
      "Epoch 29/40\n",
      "\u001B[1m9/9\u001B[0m \u001B[32m━━━━━━━━━━━━━━━━━━━━\u001B[0m\u001B[37m\u001B[0m \u001B[1m0s\u001B[0m 2ms/step - accuracy: 0.7403 - loss: 0.5572\n",
      "Epoch 30/40\n",
      "\u001B[1m9/9\u001B[0m \u001B[32m━━━━━━━━━━━━━━━━━━━━\u001B[0m\u001B[37m\u001B[0m \u001B[1m0s\u001B[0m 2ms/step - accuracy: 0.7743 - loss: 0.5394\n",
      "Epoch 31/40\n",
      "\u001B[1m9/9\u001B[0m \u001B[32m━━━━━━━━━━━━━━━━━━━━\u001B[0m\u001B[37m\u001B[0m \u001B[1m0s\u001B[0m 2ms/step - accuracy: 0.8131 - loss: 0.5028\n",
      "Epoch 32/40\n",
      "\u001B[1m9/9\u001B[0m \u001B[32m━━━━━━━━━━━━━━━━━━━━\u001B[0m\u001B[37m\u001B[0m \u001B[1m0s\u001B[0m 2ms/step - accuracy: 0.7801 - loss: 0.5308\n",
      "Epoch 33/40\n",
      "\u001B[1m9/9\u001B[0m \u001B[32m━━━━━━━━━━━━━━━━━━━━\u001B[0m\u001B[37m\u001B[0m \u001B[1m0s\u001B[0m 2ms/step - accuracy: 0.8024 - loss: 0.4991\n",
      "Epoch 34/40\n",
      "\u001B[1m9/9\u001B[0m \u001B[32m━━━━━━━━━━━━━━━━━━━━\u001B[0m\u001B[37m\u001B[0m \u001B[1m0s\u001B[0m 3ms/step - accuracy: 0.7750 - loss: 0.5048\n",
      "Epoch 35/40\n",
      "\u001B[1m9/9\u001B[0m \u001B[32m━━━━━━━━━━━━━━━━━━━━\u001B[0m\u001B[37m\u001B[0m \u001B[1m0s\u001B[0m 2ms/step - accuracy: 0.7818 - loss: 0.5019\n",
      "Epoch 36/40\n",
      "\u001B[1m9/9\u001B[0m \u001B[32m━━━━━━━━━━━━━━━━━━━━\u001B[0m\u001B[37m\u001B[0m \u001B[1m0s\u001B[0m 2ms/step - accuracy: 0.8020 - loss: 0.4820\n",
      "Epoch 37/40\n",
      "\u001B[1m9/9\u001B[0m \u001B[32m━━━━━━━━━━━━━━━━━━━━\u001B[0m\u001B[37m\u001B[0m \u001B[1m0s\u001B[0m 2ms/step - accuracy: 0.7798 - loss: 0.4993 \n",
      "Epoch 38/40\n",
      "\u001B[1m9/9\u001B[0m \u001B[32m━━━━━━━━━━━━━━━━━━━━\u001B[0m\u001B[37m\u001B[0m \u001B[1m0s\u001B[0m 4ms/step - accuracy: 0.8045 - loss: 0.4801\n",
      "Epoch 39/40\n",
      "\u001B[1m9/9\u001B[0m \u001B[32m━━━━━━━━━━━━━━━━━━━━\u001B[0m\u001B[37m\u001B[0m \u001B[1m0s\u001B[0m 3ms/step - accuracy: 0.7864 - loss: 0.4851\n",
      "Epoch 40/40\n",
      "\u001B[1m9/9\u001B[0m \u001B[32m━━━━━━━━━━━━━━━━━━━━\u001B[0m\u001B[37m\u001B[0m \u001B[1m0s\u001B[0m 2ms/step - accuracy: 0.7989 - loss: 0.4839\n"
     ]
    }
   ]
  },
  {
   "cell_type": "markdown",
   "source": [
    "## Step 6:  Check for accuracy"
   ],
   "metadata": {
    "id": "6hrqWAQFgMRA"
   }
  },
  {
   "cell_type": "code",
   "source": [
    "model.evaluate(X_test_scaled,y_test)"
   ],
   "metadata": {
    "id": "N-SPQCnef7B9",
    "ExecuteTime": {
     "end_time": "2024-11-06T16:29:25.699617700Z",
     "start_time": "2024-11-06T16:29:24.594496300Z"
    }
   },
   "execution_count": 36,
   "outputs": [
    {
     "name": "stdout",
     "output_type": "stream",
     "text": [
      "\u001B[1m1/1\u001B[0m \u001B[32m━━━━━━━━━━━━━━━━━━━━\u001B[0m\u001B[37m\u001B[0m \u001B[1m0s\u001B[0m 188ms/step - accuracy: 0.7742 - loss: 0.4800\n"
     ]
    },
    {
     "data": {
      "text/plain": "[0.4800027906894684, 0.774193525314331]"
     },
     "execution_count": 36,
     "metadata": {},
     "output_type": "execute_result"
    }
   ]
  },
  {
   "cell_type": "code",
   "source": [
    "predictions = model.predict(X_test_scaled)\n",
    "predictions"
   ],
   "metadata": {
    "id": "a63ilwN1gRFG",
    "ExecuteTime": {
     "end_time": "2024-11-06T16:29:25.746984800Z",
     "start_time": "2024-11-06T16:29:24.861373300Z"
    }
   },
   "execution_count": 37,
   "outputs": [
    {
     "name": "stdout",
     "output_type": "stream",
     "text": [
      "\u001B[1m1/1\u001B[0m \u001B[32m━━━━━━━━━━━━━━━━━━━━\u001B[0m\u001B[37m\u001B[0m \u001B[1m0s\u001B[0m 75ms/step\n"
     ]
    },
    {
     "data": {
      "text/plain": "array([[0.38330576],\n       [0.5005372 ],\n       [0.44469103],\n       [0.26801842],\n       [0.7696264 ],\n       [0.7561065 ],\n       [0.58001256],\n       [0.11208903],\n       [0.22012837],\n       [0.42514947],\n       [0.6572912 ],\n       [0.2156393 ],\n       [0.71971774],\n       [0.3734489 ],\n       [0.8878962 ],\n       [0.7958495 ],\n       [0.8890878 ],\n       [0.26895398],\n       [0.24571276],\n       [0.25675192],\n       [0.50187755],\n       [0.24361734],\n       [0.43787345],\n       [0.70156944],\n       [0.6983433 ],\n       [0.66480064],\n       [0.52591145],\n       [0.57252365],\n       [0.14515318],\n       [0.8534577 ],\n       [0.30310827]], dtype=float32)"
     },
     "execution_count": 37,
     "metadata": {},
     "output_type": "execute_result"
    }
   ]
  },
  {
   "cell_type": "code",
   "source": [
    "import seaborn as sns\n",
    "testDataWithPred = pd.DataFrame(X_test)\n",
    "testDataWithPred['target'] = y_test\n",
    "testDataWithPred['predPercent'] = predictions\n",
    "testDataWithPred['predCat'] = (testDataWithPred['predPercent'] >.5)\n",
    "testDataWithPred['correct'] = (testDataWithPred['target']==testDataWithPred['predCat'])\n",
    "testDataWithPred\n",
    "sns.scatterplot(data=testDataWithPred, x='age', y='predPercent', hue='target')"
   ],
   "metadata": {
    "id": "7Mv-FvmIheav",
    "ExecuteTime": {
     "end_time": "2024-11-06T16:29:26.455455300Z",
     "start_time": "2024-11-06T16:29:24.992389100Z"
    }
   },
   "execution_count": 38,
   "outputs": [
    {
     "data": {
      "text/plain": "<Axes: xlabel='age', ylabel='predPercent'>"
     },
     "execution_count": 38,
     "metadata": {},
     "output_type": "execute_result"
    },
    {
     "data": {
      "text/plain": "<Figure size 640x480 with 1 Axes>",
      "image/png": "[encoded data removed]"
     },
     "metadata": {},
     "output_type": "display_data"
    }
   ]
  },
  {
   "cell_type": "code",
   "execution_count": 39,
   "outputs": [
    {
     "data": {
      "text/plain": "179    False\n228     True\n111    False\n246    False\n60      True\n9       True\n119     True\n223    False\n268    False\n33     False\n5       True\n101    False\n45      True\n175    False\n118     True\n46      True\n125     True\n192    False\n285    False\n279    False\n152     True\n269    False\n272    False\n25      True\n146     True\n283     True\n254     True\n73      True\n231    False\n109     True\n139    False\nName: predCat, dtype: bool"
     },
     "execution_count": 39,
     "metadata": {},
     "output_type": "execute_result"
    }
   ],
   "source": [
    "testDataWithPred.columns\n",
    "testDataWithPred['predCat']"
   ],
   "metadata": {
    "collapsed": false,
    "ExecuteTime": {
     "end_time": "2024-11-06T16:29:26.455455300Z",
     "start_time": "2024-11-06T16:29:25.347375Z"
    }
   }
  },
  {
   "cell_type": "markdown",
   "source": [
    "### Your turn: Build a confusion matrix\n"
   ],
   "metadata": {
    "id": "qQvApAIatryd"
   }
  },
  {
   "cell_type": "code",
   "execution_count": 40,
   "outputs": [
    {
     "data": {
      "text/plain": "array([[11,  3],\n       [ 4, 13]])"
     },
     "execution_count": 40,
     "metadata": {},
     "output_type": "execute_result"
    }
   ],
   "source": [
    "confusion_matrix(testDataWithPred['target'], testDataWithPred['predCat'])"
   ],
   "metadata": {
    "collapsed": false,
    "ExecuteTime": {
     "start_time": "2024-11-06T16:29:25.362964200Z"
    }
   }
  },
  {
   "cell_type": "markdown",
   "source": [
    "Unpacking those code from above.\n",
    "\n",
    "model.compile(\n",
    "  * loss=keras.losses.binary_crossentropy,\n",
    "     * which loss function to use (loss function is the cost function for our errors)\n",
    "     * Could use sparse_categorical_crossentropy if you had more than 2 categories.\n",
    "  * optimizer=keras.optimizers.Adam(learning_rate=0.01),\n",
    "     * Adam is version of stochastistic gradient descent that has been optimized to avoid getting stuck\n",
    "     * Learning rate, smaller is slower on the gradient descent,\n",
    "     * If the learning rate is too small, you never get to your minimum and if its too big, you might step over the minimum\n",
    "  *  metrics=['accuracy'])\n",
    "     * For classification, accuracy is good\n",
    "     * For regression, MSE is good."
   ],
   "metadata": {
    "collapsed": false
   }
  },
  {
   "cell_type": "markdown",
   "source": [
    "# Neural networks for penguins\n",
    "\n",
    "Suppose we want to predict species.  What will be different about this data set than the prior one?\n",
    "\n",
    "* Output should be one of 3 species.\n",
    "* Inputs contain categories and numbers... fix that.  When using get_dummies, does it matter if we do drop_first=True?"
   ],
   "metadata": {
    "id": "cWi7LH7W7hYh"
   }
  },
  {
   "cell_type": "code",
   "source": [
    "import pandas as pd\n",
    "penguins = pd.read_csv('data/penguins2.csv')\n",
    "penguins"
   ],
   "metadata": {
    "id": "SlhYSyMT77YW",
    "ExecuteTime": {
     "start_time": "2024-11-06T16:29:25.625713600Z"
    }
   },
   "execution_count": null,
   "outputs": []
  },
  {
   "cell_type": "code",
   "source": [
    "X = penguins.drop('species', axis=1)\n",
    "y= penguins['species']\n",
    "X = pd.get_dummies(X,drop_first=True)\n",
    "X\n",
    "## Does y have to be numbers?  Or will words work?\n",
    "# Nope.  Needs to be numbers.\n",
    "y=y.replace(['Adelie','Chinstrap','Gentoo'],[0,1,2])\n",
    "y"
   ],
   "metadata": {
    "id": "66h6BP8e8FL6",
    "ExecuteTime": {
     "start_time": "2024-11-06T16:29:25.625713600Z"
    }
   },
   "execution_count": null,
   "outputs": []
  },
  {
   "cell_type": "code",
   "source": [
    "from sklearn.model_selection import train_test_split\n",
    "from sklearn.preprocessing import StandardScaler\n",
    "X_train, X_test, y_train, y_test = train_test_split(X, y, test_size=0.10, random_state=42)\n",
    "scaler = StandardScaler()\n",
    "X_train_scaled = scaler.fit_transform(X_train)\n",
    "X_test_scaled = scaler.transform(X_test)"
   ],
   "metadata": {
    "id": "ygIp7CBc9Mai",
    "ExecuteTime": {
     "start_time": "2024-11-06T16:29:25.641335400Z"
    }
   },
   "execution_count": null,
   "outputs": []
  },
  {
   "cell_type": "code",
   "source": [
    "import keras\n",
    "import tensorflow as tf\n",
    "from keras.models import Sequential\n",
    "from keras.layers import Dense\n",
    "penguin_model = Sequential()\n",
    "\n",
    "penguin_model.add(Dense(16, input_dim=7, activation='relu'))\n",
    "# penguin_model.add(Dense(8, activation ='relu'))\n",
    "# penguin_model.add(Dense(8, activation='relu'))\n",
    "penguin_model.add(Dense(3, activation='softmax'))  # last layer"
   ],
   "metadata": {
    "id": "m0za5Kzw8ps6",
    "ExecuteTime": {
     "start_time": "2024-11-06T16:29:25.641335400Z"
    }
   },
   "execution_count": null,
   "outputs": []
  },
  {
   "cell_type": "markdown",
   "source": [
    "What is softmax?  https://en.wikipedia.org/wiki/Softmax_function\n",
    "\n",
    "\"The softmax function takes as input a vector **z** of K real numbers, and normalizes it into a probability distribution consisting of K probabilities proportional to the exponentials of the input numbers. That is, prior to applying softmax, some vector components could be negative, or greater than one; and might not sum to 1; but after applying softmax, each component will be in the interval $(0,1)$ and the components will add up to 1, so that they can be interpreted as probabilities. Furthermore, the larger input components will correspond to larger probabilities.\""
   ],
   "metadata": {
    "id": "IsafAX6Op5hq"
   }
  },
  {
   "cell_type": "code",
   "source": [
    "penguin_model.compile(loss=keras.losses.sparse_categorical_crossentropy,\n",
    "              optimizer=keras.optimizers.Adam(learning_rate=0.01),\n",
    "              metrics=['accuracy'])\n",
    "penguin_model.fit(X_train_scaled, y_train, epochs=3,verbose=1)\n",
    "print(\"Evaluation of model ===> (test loss, test accuracy)\", penguin_model.evaluate(X_test_scaled,y_test))"
   ],
   "metadata": {
    "id": "aOYtJwl99qZA",
    "ExecuteTime": {
     "start_time": "2024-11-06T16:29:25.641335400Z"
    }
   },
   "execution_count": null,
   "outputs": []
  },
  {
   "cell_type": "code",
   "source": [
    "penguin_model.evaluate(X_test_scaled,y_test)"
   ],
   "metadata": {
    "id": "oL6it72L-Hbu",
    "ExecuteTime": {
     "start_time": "2024-11-06T16:29:25.641335400Z"
    }
   },
   "execution_count": null,
   "outputs": []
  },
  {
   "cell_type": "markdown",
   "source": [
    "## Build a confusion matrix"
   ],
   "metadata": {
    "id": "hhg2vF0AtR9t"
   }
  },
  {
   "cell_type": "code",
   "source": [
    "from sklearn.metrics import confusion_matrix\n",
    "test_predictions = penguin_model.predict(X_test_scaled)\n",
    "test_predictions_label = test_predictions.argmax(axis=1)\n",
    "print(confusion_matrix(y_test, test_predictions_label))"
   ],
   "metadata": {
    "id": "6TSROL6WtZfp",
    "ExecuteTime": {
     "start_time": "2024-11-06T16:29:25.641335400Z"
    }
   },
   "execution_count": null,
   "outputs": []
  },
  {
   "cell_type": "markdown",
   "source": [
    "# Your Turn: Digits classification - a classic example\n",
    "\n",
    "We've built a few digit classification models with support vector machines.  Let's try it with neural networks.\n",
    "\n",
    "Design 3 different neural networks for the digit classification task.  Use an 80/20 train/test split for each (with the same seed) and see if there is any difference in performance levels.\n",
    "\n",
    "Hyperparameters for you to adjust:\n",
    "* Number of hidden layers\n",
    "* Size of hidden layers\n",
    "* Activation functions (sigmoid, relu, softmax)\n",
    "* Learning rate\n",
    "* Optimizers (like stochastic gradient descent (SGD) or Adam).\n",
    "\n",
    "In the end, provide your accuracy results for the testing and training data, and provide a confusion matrix for each."
   ],
   "metadata": {
    "id": "NTXILpmgnE5c"
   }
  },
  {
   "cell_type": "markdown",
   "source": [
    "## Build a model"
   ],
   "metadata": {
    "collapsed": false
   }
  },
  {
   "cell_type": "code",
   "source": [
    "from sklearn.datasets import load_digits\n",
    "\n",
    "digits = load_digits()"
   ],
   "metadata": {
    "id": "jgdcEsnfwPRk",
    "ExecuteTime": {
     "end_time": "2024-11-06T16:29:35.916590300Z",
     "start_time": "2024-11-06T16:29:35.719838600Z"
    }
   },
   "execution_count": 44,
   "outputs": []
  },
  {
   "cell_type": "code",
   "execution_count": 45,
   "outputs": [],
   "source": [
    "X = digits.data\n",
    "y = digits.target\n",
    "\n",
    "X_train, X_test, y_train, y_test = train_test_split(X, y, test_size = 0.2, random_state = 42)\n",
    "\n",
    "scaler = StandardScaler()\n",
    "X_train_scaled = scaler.fit_transform(X_train)\n",
    "X_test_scaled = scaler.transform(X_test)\n"
   ],
   "metadata": {
    "collapsed": false,
    "ExecuteTime": {
     "end_time": "2024-11-06T16:29:37.148207500Z",
     "start_time": "2024-11-06T16:29:37.116565400Z"
    }
   }
  },
  {
   "cell_type": "code",
   "execution_count": 49,
   "outputs": [],
   "source": [
    "import keras\n",
    "import tensorflow as tf\n",
    "from keras.models import Sequential\n",
    "from keras.layers import Dense\n",
    "model = Sequential()\n",
    "\n",
    "model.add(Dense(128, input_dim=64, activation='relu'))\n",
    "model.add(Dense(64, activation ='relu'))\n",
    "model.add(Dense(32, activation='relu'))\n",
    "model.add(Dense(10, activation='softmax'))  # last layer"
   ],
   "metadata": {
    "collapsed": false,
    "ExecuteTime": {
     "end_time": "2024-11-06T16:30:34.704522900Z",
     "start_time": "2024-11-06T16:30:34.531698500Z"
    }
   }
  },
  {
   "cell_type": "code",
   "source": [
    "## Train the model\n",
    "model.compile(loss=keras.losses.sparse_categorical_crossentropy,\n",
    "              optimizer=keras.optimizers.Adam(learning_rate=0.01),\n",
    "              metrics=['accuracy'])\n",
    "model.fit(X_train_scaled, y_train, epochs=3,verbose=1)\n",
    "print(\"Evaluation of model ===> (test loss, test accuracy)\", model.evaluate(X_test_scaled,y_test))"
   ],
   "metadata": {
    "id": "_by7ezzewFOz",
    "ExecuteTime": {
     "end_time": "2024-11-06T16:30:39.768056Z",
     "start_time": "2024-11-06T16:30:37.389443800Z"
    }
   },
   "execution_count": 50,
   "outputs": [
    {
     "name": "stdout",
     "output_type": "stream",
     "text": [
      "Epoch 1/3\n",
      "\u001B[1m45/45\u001B[0m \u001B[32m━━━━━━━━━━━━━━━━━━━━\u001B[0m\u001B[37m\u001B[0m \u001B[1m2s\u001B[0m 2ms/step - accuracy: 0.7019 - loss: 0.9764\n",
      "Epoch 2/3\n",
      "\u001B[1m45/45\u001B[0m \u001B[32m━━━━━━━━━━━━━━━━━━━━\u001B[0m\u001B[37m\u001B[0m \u001B[1m0s\u001B[0m 2ms/step - accuracy: 0.9560 - loss: 0.1491\n",
      "Epoch 3/3\n",
      "\u001B[1m45/45\u001B[0m \u001B[32m━━━━━━━━━━━━━━━━━━━━\u001B[0m\u001B[37m\u001B[0m \u001B[1m0s\u001B[0m 2ms/step - accuracy: 0.9801 - loss: 0.0813\n",
      "\u001B[1m12/12\u001B[0m \u001B[32m━━━━━━━━━━━━━━━━━━━━\u001B[0m\u001B[37m\u001B[0m \u001B[1m0s\u001B[0m 677us/step - accuracy: 0.9802 - loss: 0.0869\n",
      "Evaluation of model ===> (test loss, test accuracy) [0.1287413388490677, 0.9750000238418579]\n"
     ]
    }
   ]
  },
  {
   "cell_type": "code",
   "source": [
    "## Get accuracy scores\n",
    "model.evaluate(X_test_scaled,y_test)"
   ],
   "metadata": {
    "id": "S_V4b3_nuw2-",
    "ExecuteTime": {
     "start_time": "2024-11-06T16:29:25.656956600Z"
    }
   },
   "execution_count": null,
   "outputs": []
  },
  {
   "cell_type": "markdown",
   "source": [
    "## Build a confusion matrix"
   ],
   "metadata": {
    "collapsed": false
   }
  },
  {
   "cell_type": "code",
   "source": [
    "from sklearn.metrics import confusion_matrix\n",
    "test_predictions = model.predict(X_test_scaled)\n",
    "test_predictions_label = test_predictions.argmax(axis=1)\n",
    "print(confusion_matrix(y_test, test_predictions_label))"
   ],
   "metadata": {
    "id": "pa4A5-PVwN0M",
    "ExecuteTime": {
     "start_time": "2024-11-06T16:29:25.672612200Z"
    }
   },
   "execution_count": null,
   "outputs": []
  },
  {
   "cell_type": "markdown",
   "source": [
    "# Playing with tensor flow\n",
    "\n",
    "Follow this link for an interactive page on tensor flow.\n",
    "\n",
    "https://playground.tensorflow.org/\n",
    "\n",
    "And here is one for convolutional neural networks (CNN)\n",
    "\n",
    "https://poloclub.github.io/cnn-explainer/."
   ],
   "metadata": {
    "id": "kJKeAaUkv2H5"
   }
  }
 ]
}
